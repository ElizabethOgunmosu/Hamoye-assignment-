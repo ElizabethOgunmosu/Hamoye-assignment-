{
 "cells": [
  {
   "cell_type": "markdown",
   "id": "5ed58d23",
   "metadata": {},
   "source": [
    "#Question1\n",
    "\n",
    "A computer program should receive 100 men’s heights in meter, one by one from the keyboard.\n",
    "Do filter and display appropriate message for invalid inputs entered by user.\n",
    "Based on the valid input entered by user, the program should count the number of tall men and the number of short men.\n",
    "Any height less than or equal to 1.5 meters is considered as short. Otherwise, the man is tall\n",
    "Before the program end, it should determine whether the number of short men is more than the number of tall man or vice-versa."
   ]
  },
  {
   "cell_type": "code",
   "execution_count": null,
   "id": "318a64db",
   "metadata": {},
   "outputs": [],
   "source": []
  },
  {
   "cell_type": "code",
   "execution_count": 4,
   "id": "68bd1943",
   "metadata": {},
   "outputs": [],
   "source": [
    "def men_height(*height):\n",
    "    short = []\n",
    "    tall = []\n",
    "    for i in height:\n",
    "        if type(i) != float:\n",
    "            print(\"error\")\n",
    "        else:\n",
    "            for i in height:\n",
    "                if i <= 1.5:\n",
    "                    short.append(i)\n",
    "                else:\n",
    "                    tall.append(i)\n",
    "                    #print(len(short))\n",
    "            if len(short) < len (tall):\n",
    "                return f' There are more tall men with count {len(tall)}'\n",
    "            else:\n",
    "                return f' There are more short men with count {len(short)}'\n",
    "            return short, tall"
   ]
  },
  {
   "cell_type": "code",
   "execution_count": 5,
   "id": "9fd438a6",
   "metadata": {},
   "outputs": [
    {
     "name": "stdout",
     "output_type": "stream",
     "text": [
      "error\n"
     ]
    },
    {
     "data": {
      "text/plain": [
       "' There are more tall men with count 6'"
      ]
     },
     "execution_count": 5,
     "metadata": {},
     "output_type": "execute_result"
    }
   ],
   "source": [
    "men_height (1, 1.2, 1.45, 1.5, 3, 4, 5.5, 6.2, 7.5, 8)"
   ]
  },
  {
   "cell_type": "code",
   "execution_count": 10,
   "id": "229a816d",
   "metadata": {},
   "outputs": [
    {
     "data": {
      "text/plain": [
       "' There are more tall men with count 5'"
      ]
     },
     "execution_count": 10,
     "metadata": {},
     "output_type": "execute_result"
    }
   ],
   "source": [
    "men_height (1.5, 3, 4, 5.5, 6.2, 7.5, 1.2, 1.45)"
   ]
  },
  {
   "cell_type": "code",
   "execution_count": null,
   "id": "db917152",
   "metadata": {},
   "outputs": [],
   "source": []
  },
  {
   "cell_type": "code",
   "execution_count": 24,
   "id": "af0a8d5f",
   "metadata": {},
   "outputs": [],
   "source": [
    "def get_input():\n",
    "    \"\"\"\n",
    "     \n",
    "    this function performs all arithmetic\n",
    "    passed into it as arguments. \n",
    "    \n",
    "    \"\"\"\n",
    "    num1 = 6\n",
    "    num2 = 3\n",
    "    \n",
    "    if num2 == 0:\n",
    "        print('error', 'invalid')\n",
    "    else:\n",
    "        print('input valuethat is not zero')\n",
    "        \n",
    "    result1 = num1 + num2\n",
    "    result2 = num1*num2\n",
    "    result3 = num1/num2\n",
    "    result4 = num1-num2\n",
    "    \n",
    "    return result1\n",
    "    return result2 \n",
    "    return result3 \n",
    "    return result4"
   ]
  },
  {
   "cell_type": "code",
   "execution_count": 15,
   "id": "c13918f4",
   "metadata": {},
   "outputs": [
    {
     "data": {
      "text/plain": [
       "10"
      ]
     },
     "execution_count": 15,
     "metadata": {},
     "output_type": "execute_result"
    }
   ],
   "source": [
    "7+3"
   ]
  },
  {
   "cell_type": "code",
   "execution_count": 16,
   "id": "1392ed68",
   "metadata": {},
   "outputs": [
    {
     "data": {
      "text/plain": [
       "2.0"
      ]
     },
     "execution_count": 16,
     "metadata": {},
     "output_type": "execute_result"
    }
   ],
   "source": [
    "4/2"
   ]
  },
  {
   "cell_type": "code",
   "execution_count": 17,
   "id": "75eb2e4b",
   "metadata": {},
   "outputs": [
    {
     "data": {
      "text/plain": [
       "15"
      ]
     },
     "execution_count": 17,
     "metadata": {},
     "output_type": "execute_result"
    }
   ],
   "source": [
    "3*5"
   ]
  },
  {
   "cell_type": "code",
   "execution_count": 18,
   "id": "68252e35",
   "metadata": {},
   "outputs": [
    {
     "data": {
      "text/plain": [
       "6"
      ]
     },
     "execution_count": 18,
     "metadata": {},
     "output_type": "execute_result"
    }
   ],
   "source": [
    "10-4"
   ]
  },
  {
   "cell_type": "code",
   "execution_count": 25,
   "id": "5a732b9d",
   "metadata": {},
   "outputs": [
    {
     "ename": "ZeroDivisionError",
     "evalue": "division by zero",
     "output_type": "error",
     "traceback": [
      "\u001b[1;31m---------------------------------------------------------------------------\u001b[0m",
      "\u001b[1;31mZeroDivisionError\u001b[0m                         Traceback (most recent call last)",
      "Input \u001b[1;32mIn [25]\u001b[0m, in \u001b[0;36m<cell line: 1>\u001b[1;34m()\u001b[0m\n\u001b[1;32m----> 1\u001b[0m \u001b[38;5;241;43m5\u001b[39;49m\u001b[38;5;241;43m/\u001b[39;49m\u001b[38;5;241;43m0\u001b[39;49m\n",
      "\u001b[1;31mZeroDivisionError\u001b[0m: division by zero"
     ]
    }
   ],
   "source": [
    "5/0"
   ]
  },
  {
   "cell_type": "markdown",
   "id": "77eb3c1b",
   "metadata": {},
   "source": [
    "An Air Pollutant Index (API) recording system should allow user to enter the name of month to start using the system. If the user entered September, April, June, or November as the month, 30 API readings should be keyed-in by the user into the program. If user entered February, the system will ask the user to choose between leap year or non-leap year. If user choose non leap year, 28 API readings should be keyed-in into the system or else, 29 API readings will be captured. Other than that, 31 readings should be keyed-in by the user. For each API reading entered, the program should be able to analyze the condition and display the API reading with its status as per in Figure 1."
   ]
  },
  {
   "cell_type": "code",
   "execution_count": null,
   "id": "360ad0a3",
   "metadata": {},
   "outputs": [],
   "source": [
    "print(\"Make your selection\")\n",
    "print(\"1. month1\")\n",
    "print(\"2. month2\")\n",
    "print(\"3. month3\")\n",
    "def api(month):\n",
    "    month1 = ['April', 'June', 'September', 'November']\n",
    "    month2 = ['January', 'March', 'May', 'July', 'August', 'October', 'December']\n",
    "    month3 = ['Febuary']\n",
    "    selection = input(\"Select any month: \")\n",
    "    for i in month1:\n",
    "        month1 = input(\" fEnter values up to thirty sperated by space: \")\n",
    "        average1 = sum(month1)/len(month1)\n",
    "        return average1\n",
    "    for i in month2:\n",
    "        month2 = float(input(\"Enter values up to thirty one: \"))\n",
    "        average2 = sum(month2)/len(month2)\n",
    "        return average2\n",
    "    for i in month3:\n",
    "        select1 = input(\"Select one for leap year: \")\n",
    "        select2 = input(\"Select two for non leap year: \")\n",
    "        if month3 == leap_year:\n",
    "            month3 = float(input(\"Enter values up to twenty nine: \"))\n",
    "            average3 = sum(month3)/len(month3)\n",
    "            return average3\n",
    "        else:\n",
    "            month3 = float(input(\"Enter values up to twenty eight: \"))\n",
    "            average3 = sum(month3)/len(month3)\n",
    "            return average3\n",
    "api_status = api()\n",
    "if api_status <= 50:\n",
    "    print(\"Good\")\n",
    "elif api_status <= 100:\n",
    "    print(\"Moderate\")\n",
    "elif api_status <= 200:\n",
    "    print(\"Unhealthy\")\n",
    "elif api_status <= 300:\n",
    "    print(\"Very unhealthy\")\n",
    "else:\n",
    "    print(\"Hazardous\")        "
   ]
  },
  {
   "cell_type": "code",
   "execution_count": null,
   "id": "0e1b0a28",
   "metadata": {},
   "outputs": [],
   "source": [
    "print(\"Make your selection\")\n",
    "print(\"1. month1\")\n",
    "print(\"2. month2\")\n",
    "print(\"3. month3\")\n",
    "def api(month):\n",
    "    month1 = ['April', 'June', 'September', 'November']\n",
    "    month2 = ['January', 'March', 'May', 'July', 'August', 'October', 'December']\n",
    "    month3 = ['Febuary']\n",
    "    selection = input(\"Select any month: \")\n",
    "    for i in month1:\n",
    "        month1 = input(\" fEnter values up to thirty sperated by space: \")\n",
    "        average1 = sum(month1)/len(month1)\n",
    "        return average1\n",
    "     for i in month2:\n",
    "        month2 = float(input(\"Enter values up to thirty one: \"))\n",
    "        average2 = sum(month2)/len(month2)\n",
    "        return average2\n",
    "    for i in month3:\n",
    "        select1 = input(\"Select one for leap year: \")\n",
    "        select2 = input(\"Select two for non leap year: \")\n",
    "        if month3 == leap_year:\n",
    "            month3 = float(input(\"Enter values up to twenty nine: \"))\n",
    "            average3 = sum(month3)/len(month3)\n",
    "            return average3\n",
    "        else:\n",
    "            month3 = float(input(\"Enter values up to twenty eight: \"))\n",
    "            average3 = sum(month3)/len(month3)\n",
    "            return average3\n",
    "api_status = api()\n",
    "if api_status <= 50:\n",
    "    print(\"Good\")\n",
    "elif api_status <= 100:\n",
    "    print(\"Moderate\")\n",
    "elif api_status <= 200:\n",
    "    print(\"Unhealthy\")\n",
    "elif api_status <= 300:\n",
    "    print(\"Very unhealthy\")\n",
    "else:\n",
    "    print(\"Hazardous\")      "
   ]
  },
  {
   "cell_type": "code",
   "execution_count": null,
   "id": "afe953f6",
   "metadata": {},
   "outputs": [],
   "source": [
    "print(\"Make your selection\")\n",
    "print(\"1. month1\")\n",
    "print(\"2. month2\")\n",
    "print(\"3. month3\")\n",
    "def api(month):\n",
    "    month1 = ['April', 'June', 'September', 'November']\n",
    "    month2 = ['January', 'March', 'May', 'July', 'August', 'October', 'December']\n",
    "    month3 = ['Febuary']\n",
    "    selection = input(\"Select any month: \")\n",
    "    for i in month1:\n",
    "        month1 = input(\" fEnter values up to thirty sperated by space: \")\n",
    "        average1 = sum(month1)/len(month1)\n",
    "        return average1\n",
    "     for i in month2:\n",
    "        month2 = float(input(\"Enter values up to thirty one: \"))\n",
    "        average2 = sum(month2)/len(month2)\n",
    "        return average2\n",
    "    for i in month3:\n",
    "        select1 = input(\"Select one for leap year: \")\n",
    "        select2 = input(\"Select two for non leap year: \")\n",
    "        if month3 == leap_year:\n",
    "            month3 = float(input(\"Enter values up to twenty nine: \"))\n",
    "            average3 = sum(month3)/len(month3)\n",
    "            return average3\n",
    "        else:\n",
    "            month3 = float(input(\"Enter values up to twenty eight: \"))\n",
    "            average3 = sum(month3)/len(month3)\n",
    "            return average3\n",
    "api_status = api()\n",
    "if api_status <= 50:\n",
    "    print(\"Good\")\n",
    "elif api_status <= 100:\n",
    "    print(\"Moderate\")\n",
    "elif api_status <= 200:\n",
    "    print(\"Unhealthy\")\n",
    "elif api_status <= 300:\n",
    "    print(\"Very unhealthy\")\n",
    "else:\n",
    "    print(\"Hazardous\")      "
   ]
  }
 ],
 "metadata": {
  "kernelspec": {
   "display_name": "Python 3 (ipykernel)",
   "language": "python",
   "name": "python3"
  },
  "language_info": {
   "codemirror_mode": {
    "name": "ipython",
    "version": 3
   },
   "file_extension": ".py",
   "mimetype": "text/x-python",
   "name": "python",
   "nbconvert_exporter": "python",
   "pygments_lexer": "ipython3",
   "version": "3.9.12"
  }
 },
 "nbformat": 4,
 "nbformat_minor": 5
}
